{
 "cells": [
  {
   "cell_type": "code",
   "execution_count": 3,
   "id": "18234d3c",
   "metadata": {},
   "outputs": [],
   "source": [
    "import numpy as np\n",
    "import pandas as pd\n",
    "from pymatgen.io.cif import CifParser\n",
    "from tqdm import tqdm\n",
    "from joblib import Parallel, delayed"
   ]
  },
  {
   "cell_type": "code",
   "execution_count": 19,
   "id": "75b61f02",
   "metadata": {},
   "outputs": [],
   "source": [
    "df = pd.read_pickle('pilot/data.pickle.gz')\n",
    "structures = pd.Series(data=df['initial_structure'].values, index=df['descriptor_id'].values, name='structures')"
   ]
  },
  {
   "cell_type": "code",
   "execution_count": 20,
   "id": "1ae22c57",
   "metadata": {},
   "outputs": [],
   "source": [
    "descriptors = pd.read_csv('descriptors.csv', index_col='_id')\n",
    "descriptors = descriptors[['base', 'cell']]"
   ]
  },
  {
   "cell_type": "code",
   "execution_count": 21,
   "id": "ba7205d2",
   "metadata": {},
   "outputs": [
    {
     "data": {
      "text/html": [
       "<div>\n",
       "<style scoped>\n",
       "    .dataframe tbody tr th:only-of-type {\n",
       "        vertical-align: middle;\n",
       "    }\n",
       "\n",
       "    .dataframe tbody tr th {\n",
       "        vertical-align: top;\n",
       "    }\n",
       "\n",
       "    .dataframe thead th {\n",
       "        text-align: right;\n",
       "    }\n",
       "</style>\n",
       "<table border=\"1\" class=\"dataframe\">\n",
       "  <thead>\n",
       "    <tr style=\"text-align: right;\">\n",
       "      <th></th>\n",
       "      <th>structures</th>\n",
       "      <th>base</th>\n",
       "      <th>cell</th>\n",
       "    </tr>\n",
       "  </thead>\n",
       "  <tbody>\n",
       "    <tr>\n",
       "      <th>6141cf10b842c2e72e2f2d42</th>\n",
       "      <td>[[1.27612629e-07 1.84192955e+00 3.71975100e+00...</td>\n",
       "      <td>MoS2</td>\n",
       "      <td>[8, 8, 1]</td>\n",
       "    </tr>\n",
       "    <tr>\n",
       "      <th>6141cf10cc0e69a0cf28ab33</th>\n",
       "      <td>[[1.27612629e-07 1.84192955e+00 3.71975100e+00...</td>\n",
       "      <td>MoS2</td>\n",
       "      <td>[8, 8, 1]</td>\n",
       "    </tr>\n",
       "    <tr>\n",
       "      <th>6141cf10cc0e69a0cf28ab33</th>\n",
       "      <td>[[1.27612629e-07 1.84192955e+00 3.71975100e+00...</td>\n",
       "      <td>MoS2</td>\n",
       "      <td>[8, 8, 1]</td>\n",
       "    </tr>\n",
       "    <tr>\n",
       "      <th>6141cf123ac25c70a5c6c835</th>\n",
       "      <td>[[1.27612629e-07 1.84192955e+00 3.71975100e+00...</td>\n",
       "      <td>MoS2</td>\n",
       "      <td>[8, 8, 1]</td>\n",
       "    </tr>\n",
       "    <tr>\n",
       "      <th>6141cf123ac25c70a5c6c835</th>\n",
       "      <td>[[1.27612629e-07 1.84192955e+00 3.71975100e+00...</td>\n",
       "      <td>MoS2</td>\n",
       "      <td>[8, 8, 1]</td>\n",
       "    </tr>\n",
       "    <tr>\n",
       "      <th>...</th>\n",
       "      <td>...</td>\n",
       "      <td>...</td>\n",
       "      <td>...</td>\n",
       "    </tr>\n",
       "    <tr>\n",
       "      <th>6141cf184e27a1844a5efff8</th>\n",
       "      <td>[[1.27612629e-07 1.84192955e+00 3.71975100e+00...</td>\n",
       "      <td>MoS2</td>\n",
       "      <td>[8, 8, 1]</td>\n",
       "    </tr>\n",
       "    <tr>\n",
       "      <th>6141cf184e27a1844a5efff8</th>\n",
       "      <td>[[1.27612629e-07 1.84192955e+00 3.71975100e+00...</td>\n",
       "      <td>MoS2</td>\n",
       "      <td>[8, 8, 1]</td>\n",
       "    </tr>\n",
       "    <tr>\n",
       "      <th>6141cf184e27a1844a5efff8</th>\n",
       "      <td>[[1.27612629e-07 1.84192955e+00 3.71975100e+00...</td>\n",
       "      <td>MoS2</td>\n",
       "      <td>[8, 8, 1]</td>\n",
       "    </tr>\n",
       "    <tr>\n",
       "      <th>6141cf184e27a1844a5efff8</th>\n",
       "      <td>[[1.27612629e-07 1.84192955e+00 3.71975100e+00...</td>\n",
       "      <td>MoS2</td>\n",
       "      <td>[8, 8, 1]</td>\n",
       "    </tr>\n",
       "    <tr>\n",
       "      <th>6141cf184e27a1844a5efff8</th>\n",
       "      <td>[[1.27612629e-07 1.84192955e+00 3.71975100e+00...</td>\n",
       "      <td>MoS2</td>\n",
       "      <td>[8, 8, 1]</td>\n",
       "    </tr>\n",
       "  </tbody>\n",
       "</table>\n",
       "<p>200 rows × 3 columns</p>\n",
       "</div>"
      ],
      "text/plain": [
       "                                                                 structures  \\\n",
       "6141cf10b842c2e72e2f2d42  [[1.27612629e-07 1.84192955e+00 3.71975100e+00...   \n",
       "6141cf10cc0e69a0cf28ab33  [[1.27612629e-07 1.84192955e+00 3.71975100e+00...   \n",
       "6141cf10cc0e69a0cf28ab33  [[1.27612629e-07 1.84192955e+00 3.71975100e+00...   \n",
       "6141cf123ac25c70a5c6c835  [[1.27612629e-07 1.84192955e+00 3.71975100e+00...   \n",
       "6141cf123ac25c70a5c6c835  [[1.27612629e-07 1.84192955e+00 3.71975100e+00...   \n",
       "...                                                                     ...   \n",
       "6141cf184e27a1844a5efff8  [[1.27612629e-07 1.84192955e+00 3.71975100e+00...   \n",
       "6141cf184e27a1844a5efff8  [[1.27612629e-07 1.84192955e+00 3.71975100e+00...   \n",
       "6141cf184e27a1844a5efff8  [[1.27612629e-07 1.84192955e+00 3.71975100e+00...   \n",
       "6141cf184e27a1844a5efff8  [[1.27612629e-07 1.84192955e+00 3.71975100e+00...   \n",
       "6141cf184e27a1844a5efff8  [[1.27612629e-07 1.84192955e+00 3.71975100e+00...   \n",
       "\n",
       "                          base       cell  \n",
       "6141cf10b842c2e72e2f2d42  MoS2  [8, 8, 1]  \n",
       "6141cf10cc0e69a0cf28ab33  MoS2  [8, 8, 1]  \n",
       "6141cf10cc0e69a0cf28ab33  MoS2  [8, 8, 1]  \n",
       "6141cf123ac25c70a5c6c835  MoS2  [8, 8, 1]  \n",
       "6141cf123ac25c70a5c6c835  MoS2  [8, 8, 1]  \n",
       "...                        ...        ...  \n",
       "6141cf184e27a1844a5efff8  MoS2  [8, 8, 1]  \n",
       "6141cf184e27a1844a5efff8  MoS2  [8, 8, 1]  \n",
       "6141cf184e27a1844a5efff8  MoS2  [8, 8, 1]  \n",
       "6141cf184e27a1844a5efff8  MoS2  [8, 8, 1]  \n",
       "6141cf184e27a1844a5efff8  MoS2  [8, 8, 1]  \n",
       "\n",
       "[200 rows x 3 columns]"
      ]
     },
     "execution_count": 21,
     "metadata": {},
     "output_type": "execute_result"
    }
   ],
   "source": [
    "prepared = pd.merge(structures, descriptors, left_index=True, right_index=True)\n",
    "prepared"
   ]
  },
  {
   "cell_type": "code",
   "execution_count": 22,
   "id": "1883b5e1",
   "metadata": {},
   "outputs": [
    {
     "name": "stderr",
     "output_type": "stream",
     "text": [
      "/mnt/c/Users/123/Desktop/2D_crystals/Band_studies/band_env/lib/python3.10/site-packages/pymatgen/io/cif.py:1169: UserWarning: Issues encountered while parsing CIF: Some fractional coordinates rounded to ideal values to avoid issues with finite precision.\n",
      "  warnings.warn(\"Issues encountered while parsing CIF: \" + \"\\n\".join(self.warnings))\n"
     ]
    }
   ],
   "source": [
    "unit_cells = {\n",
    "    'MoS2': CifParser(\"MoS2.cif\").get_structures(primitive=False)[0],\n",
    "    'WSe2': CifParser(\"WSe2.cif\").get_structures(primitive=False)[0]\n",
    "}"
   ]
  },
  {
   "cell_type": "code",
   "execution_count": 23,
   "id": "7397d529",
   "metadata": {},
   "outputs": [],
   "source": [
    "prepared = prepared.values.tolist()\n",
    "prepared = [[p[0], p[1], eval(p[2])] for p in prepared]"
   ]
  },
  {
   "cell_type": "code",
   "execution_count": 24,
   "id": "20820558",
   "metadata": {},
   "outputs": [
    {
     "name": "stderr",
     "output_type": "stream",
     "text": [
      "  8%|██████████▉                                                                                                                             | 16/200 [00:24<05:35,  1.82s/it]/mnt/c/Users/123/Desktop/2D_crystals/Band_studies/band_env/lib/python3.10/site-packages/pymatgen/core/structure.py:799: UserWarning: Not all sites have property was. Missing values are set to None.\n",
      "  warnings.warn(f\"Not all sites have property {k}. Missing values are set to None.\")\n",
      " 20%|███████████████████████████▏                                                                                                            | 40/200 [00:25<01:02,  2.55it/s]/mnt/c/Users/123/Desktop/2D_crystals/Band_studies/band_env/lib/python3.10/site-packages/pymatgen/core/structure.py:799: UserWarning: Not all sites have property was. Missing values are set to None.\n",
      "  warnings.warn(f\"Not all sites have property {k}. Missing values are set to None.\")\n",
      "/mnt/c/Users/123/Desktop/2D_crystals/Band_studies/band_env/lib/python3.10/site-packages/pymatgen/core/structure.py:799: UserWarning: Not all sites have property was. Missing values are set to None.\n",
      "  warnings.warn(f\"Not all sites have property {k}. Missing values are set to None.\")\n",
      "/mnt/c/Users/123/Desktop/2D_crystals/Band_studies/band_env/lib/python3.10/site-packages/pymatgen/core/structure.py:799: UserWarning: Not all sites have property was. Missing values are set to None.\n",
      "  warnings.warn(f\"Not all sites have property {k}. Missing values are set to None.\")\n",
      "/mnt/c/Users/123/Desktop/2D_crystals/Band_studies/band_env/lib/python3.10/site-packages/pymatgen/core/structure.py:799: UserWarning: Not all sites have property was. Missing values are set to None.\n",
      "  warnings.warn(f\"Not all sites have property {k}. Missing values are set to None.\")\n",
      " 24%|████████████████████████████████▋                                                                                                       | 48/200 [00:25<00:40,  3.78it/s]/mnt/c/Users/123/Desktop/2D_crystals/Band_studies/band_env/lib/python3.10/site-packages/pymatgen/core/structure.py:799: UserWarning: Not all sites have property was. Missing values are set to None.\n",
      "  warnings.warn(f\"Not all sites have property {k}. Missing values are set to None.\")\n",
      " 36%|████████████████████████████████████████████████▉                                                                                       | 72/200 [00:25<00:11, 10.73it/s]/mnt/c/Users/123/Desktop/2D_crystals/Band_studies/band_env/lib/python3.10/site-packages/pymatgen/core/structure.py:799: UserWarning: Not all sites have property was. Missing values are set to None.\n",
      "  warnings.warn(f\"Not all sites have property {k}. Missing values are set to None.\")\n",
      " 68%|███████████████████████████████████████████████████████████████████████████████████████████▊                                           | 136/200 [00:26<00:01, 57.33it/s]/mnt/c/Users/123/Desktop/2D_crystals/Band_studies/band_env/lib/python3.10/site-packages/pymatgen/core/structure.py:799: UserWarning: Not all sites have property was. Missing values are set to None.\n",
      "  warnings.warn(f\"Not all sites have property {k}. Missing values are set to None.\")\n",
      "100%|███████████████████████████████████████████████████████████████████████████████████████████████████████████████████████████████████████| 200/200 [00:26<00:00,  7.44it/s]\n"
     ]
    }
   ],
   "source": [
    "from MEGNetSparse.dense2sparse import convert_to_sparse_representation\n",
    "\n",
    "dataset = Parallel(n_jobs=-1)(\n",
    "            delayed(convert_to_sparse_representation)(p[0], unit_cells[p[1]], p[2], True) for p in tqdm(prepared))"
   ]
  },
  {
   "cell_type": "code",
   "execution_count": 32,
   "id": "3cd93a55",
   "metadata": {},
   "outputs": [],
   "source": [
    "targets = pd.read_csv('pilot/targets.csv.gz')\n",
    "targets = targets['formation_energy_per_site'].values"
   ]
  },
  {
   "cell_type": "code",
   "execution_count": 34,
   "id": "5787b6ba",
   "metadata": {},
   "outputs": [],
   "source": [
    "train_data, test_data = dataset[:100], dataset[100:]\n",
    "train_targets, test_targets = targets[:100], targets[100:]"
   ]
  },
  {
   "cell_type": "code",
   "execution_count": 35,
   "id": "1ac0eb9f",
   "metadata": {},
   "outputs": [],
   "source": [
    "config = {\n",
    "    'model': {\n",
    "        'train_batch_size': 50,\n",
    "        'test_batch_size': 50,\n",
    "        'add_z_bond_coord': True,\n",
    "        'atom_features': 'werespecies',\n",
    "        'state_input_shape': 2,\n",
    "        'cutoff': 10,\n",
    "        'edge_embed_size': 10,\n",
    "        'vertex_aggregation': 'mean',\n",
    "        'global_aggregation': 'mean',\n",
    "        'embedding_size': 32,\n",
    "        'nblocks': 3,\n",
    "    },\n",
    "    'optim': {\n",
    "        'factor': 0.5,\n",
    "        'patience': 30,\n",
    "        'threshold': 5e-2,\n",
    "        'min_lr': 1e-5,\n",
    "        'lr_initial': 1e-3,\n",
    "        'scheduler': 'ReduceLROnPlateau',\n",
    "    }\n",
    "}"
   ]
  },
  {
   "cell_type": "code",
   "execution_count": 36,
   "id": "2d17ef7c",
   "metadata": {},
   "outputs": [],
   "source": [
    "from MEGNetSparse.trainer import MEGNetTrainer\n",
    "\n",
    "trainer = MEGNetTrainer(config, 'cpu')"
   ]
  },
  {
   "cell_type": "code",
   "execution_count": 37,
   "id": "d1b1ab7d",
   "metadata": {},
   "outputs": [
    {
     "name": "stdout",
     "output_type": "stream",
     "text": [
      "adding targets to data\n",
      "converting data\n"
     ]
    },
    {
     "name": "stderr",
     "output_type": "stream",
     "text": [
      "100%|███████████████████████████████████████████████████████████████████████████████████████████████████████████████████████████████████████| 100/100 [01:03<00:00,  1.57it/s]\n",
      "100%|██████████████████████████████████████████████████████████████████████████████████████████████████████████████████████████████████████| 100/100 [00:00<00:00, 694.72it/s]\n"
     ]
    }
   ],
   "source": [
    "trainer.prepare_data(train_data, train_targets, test_data, test_targets, 'formation_energy')"
   ]
  },
  {
   "cell_type": "code",
   "execution_count": 38,
   "id": "3a44624d",
   "metadata": {},
   "outputs": [
    {
     "name": "stdout",
     "output_type": "stream",
     "text": [
      "target: formation_energy device: cpu\n"
     ]
    },
    {
     "ename": "RuntimeError",
     "evalue": "Found dtype Double but expected Float",
     "output_type": "error",
     "traceback": [
      "\u001b[0;31m---------------------------------------------------------------------------\u001b[0m",
      "\u001b[0;31mRuntimeError\u001b[0m                              Traceback (most recent call last)",
      "Cell \u001b[0;32mIn[38], line 1\u001b[0m\n\u001b[0;32m----> 1\u001b[0m \u001b[43mtrainer\u001b[49m\u001b[38;5;241;43m.\u001b[39;49m\u001b[43mtrain_one_epoch\u001b[49m\u001b[43m(\u001b[49m\u001b[43m)\u001b[49m\n",
      "File \u001b[0;32m/mnt/c/Users/123/Desktop/2D_crystals/MEGNet_pytorch_test/MEGNetSparse/trainer.py:125\u001b[0m, in \u001b[0;36mMEGNetTrainer.train_one_epoch\u001b[0;34m(self)\u001b[0m\n\u001b[1;32m    116\u001b[0m preds \u001b[38;5;241m=\u001b[39m \u001b[38;5;28mself\u001b[39m\u001b[38;5;241m.\u001b[39mmodel(\n\u001b[1;32m    117\u001b[0m     batch\u001b[38;5;241m.\u001b[39mx, batch\u001b[38;5;241m.\u001b[39medge_index, batch\u001b[38;5;241m.\u001b[39medge_attr, batch\u001b[38;5;241m.\u001b[39mstate, batch\u001b[38;5;241m.\u001b[39mbatch, batch\u001b[38;5;241m.\u001b[39mbond_batch\n\u001b[1;32m    118\u001b[0m )\u001b[38;5;241m.\u001b[39msqueeze()\n\u001b[1;32m    120\u001b[0m loss \u001b[38;5;241m=\u001b[39m F\u001b[38;5;241m.\u001b[39mmse_loss(\n\u001b[1;32m    121\u001b[0m     \u001b[38;5;28mself\u001b[39m\u001b[38;5;241m.\u001b[39mscaler\u001b[38;5;241m.\u001b[39mtransform(batch\u001b[38;5;241m.\u001b[39my),\n\u001b[1;32m    122\u001b[0m     preds,\n\u001b[1;32m    123\u001b[0m     reduction\u001b[38;5;241m=\u001b[39m\u001b[38;5;124m'\u001b[39m\u001b[38;5;124mmean\u001b[39m\u001b[38;5;124m'\u001b[39m\n\u001b[1;32m    124\u001b[0m )\n\u001b[0;32m--> 125\u001b[0m \u001b[43mloss\u001b[49m\u001b[38;5;241;43m.\u001b[39;49m\u001b[43mbackward\u001b[49m\u001b[43m(\u001b[49m\u001b[43m)\u001b[49m\n\u001b[1;32m    127\u001b[0m \u001b[38;5;28mself\u001b[39m\u001b[38;5;241m.\u001b[39moptimizer\u001b[38;5;241m.\u001b[39mstep()\n\u001b[1;32m    128\u001b[0m \u001b[38;5;28mself\u001b[39m\u001b[38;5;241m.\u001b[39moptimizer\u001b[38;5;241m.\u001b[39mzero_grad()\n",
      "File \u001b[0;32m/mnt/c/Users/123/Desktop/2D_crystals/Band_studies/band_env/lib/python3.10/site-packages/torch/_tensor.py:479\u001b[0m, in \u001b[0;36mTensor.backward\u001b[0;34m(self, gradient, retain_graph, create_graph, inputs)\u001b[0m\n\u001b[1;32m    432\u001b[0m \u001b[38;5;250m\u001b[39m\u001b[38;5;124mr\u001b[39m\u001b[38;5;124;03m\"\"\"Computes the gradient of current tensor w.r.t. graph leaves.\u001b[39;00m\n\u001b[1;32m    433\u001b[0m \n\u001b[1;32m    434\u001b[0m \u001b[38;5;124;03mThe graph is differentiated using the chain rule. If the tensor is\u001b[39;00m\n\u001b[0;32m   (...)\u001b[0m\n\u001b[1;32m    476\u001b[0m \u001b[38;5;124;03m        used to compute the attr::tensors.\u001b[39;00m\n\u001b[1;32m    477\u001b[0m \u001b[38;5;124;03m\"\"\"\u001b[39;00m\n\u001b[1;32m    478\u001b[0m \u001b[38;5;28;01mif\u001b[39;00m has_torch_function_unary(\u001b[38;5;28mself\u001b[39m):\n\u001b[0;32m--> 479\u001b[0m     \u001b[38;5;28;01mreturn\u001b[39;00m \u001b[43mhandle_torch_function\u001b[49m\u001b[43m(\u001b[49m\n\u001b[1;32m    480\u001b[0m \u001b[43m        \u001b[49m\u001b[43mTensor\u001b[49m\u001b[38;5;241;43m.\u001b[39;49m\u001b[43mbackward\u001b[49m\u001b[43m,\u001b[49m\n\u001b[1;32m    481\u001b[0m \u001b[43m        \u001b[49m\u001b[43m(\u001b[49m\u001b[38;5;28;43mself\u001b[39;49m\u001b[43m,\u001b[49m\u001b[43m)\u001b[49m\u001b[43m,\u001b[49m\n\u001b[1;32m    482\u001b[0m \u001b[43m        \u001b[49m\u001b[38;5;28;43mself\u001b[39;49m\u001b[43m,\u001b[49m\n\u001b[1;32m    483\u001b[0m \u001b[43m        \u001b[49m\u001b[43mgradient\u001b[49m\u001b[38;5;241;43m=\u001b[39;49m\u001b[43mgradient\u001b[49m\u001b[43m,\u001b[49m\n\u001b[1;32m    484\u001b[0m \u001b[43m        \u001b[49m\u001b[43mretain_graph\u001b[49m\u001b[38;5;241;43m=\u001b[39;49m\u001b[43mretain_graph\u001b[49m\u001b[43m,\u001b[49m\n\u001b[1;32m    485\u001b[0m \u001b[43m        \u001b[49m\u001b[43mcreate_graph\u001b[49m\u001b[38;5;241;43m=\u001b[39;49m\u001b[43mcreate_graph\u001b[49m\u001b[43m,\u001b[49m\n\u001b[1;32m    486\u001b[0m \u001b[43m        \u001b[49m\u001b[43minputs\u001b[49m\u001b[38;5;241;43m=\u001b[39;49m\u001b[43minputs\u001b[49m\u001b[43m,\u001b[49m\n\u001b[1;32m    487\u001b[0m \u001b[43m    \u001b[49m\u001b[43m)\u001b[49m\n\u001b[1;32m    488\u001b[0m torch\u001b[38;5;241m.\u001b[39mautograd\u001b[38;5;241m.\u001b[39mbackward(\n\u001b[1;32m    489\u001b[0m     \u001b[38;5;28mself\u001b[39m, gradient, retain_graph, create_graph, inputs\u001b[38;5;241m=\u001b[39minputs\n\u001b[1;32m    490\u001b[0m )\n",
      "File \u001b[0;32m/mnt/c/Users/123/Desktop/2D_crystals/Band_studies/band_env/lib/python3.10/site-packages/torch/overrides.py:1534\u001b[0m, in \u001b[0;36mhandle_torch_function\u001b[0;34m(public_api, relevant_args, *args, **kwargs)\u001b[0m\n\u001b[1;32m   1528\u001b[0m     warnings\u001b[38;5;241m.\u001b[39mwarn(\u001b[38;5;124m\"\u001b[39m\u001b[38;5;124mDefining your `__torch_function__ as a plain method is deprecated and \u001b[39m\u001b[38;5;124m\"\u001b[39m\n\u001b[1;32m   1529\u001b[0m                   \u001b[38;5;124m\"\u001b[39m\u001b[38;5;124mwill be an error in future, please define it as a classmethod.\u001b[39m\u001b[38;5;124m\"\u001b[39m,\n\u001b[1;32m   1530\u001b[0m                   \u001b[38;5;167;01mDeprecationWarning\u001b[39;00m)\n\u001b[1;32m   1532\u001b[0m \u001b[38;5;66;03m# Use `public_api` instead of `implementation` so __torch_function__\u001b[39;00m\n\u001b[1;32m   1533\u001b[0m \u001b[38;5;66;03m# implementations can do equality/identity comparisons.\u001b[39;00m\n\u001b[0;32m-> 1534\u001b[0m result \u001b[38;5;241m=\u001b[39m \u001b[43mtorch_func_method\u001b[49m\u001b[43m(\u001b[49m\u001b[43mpublic_api\u001b[49m\u001b[43m,\u001b[49m\u001b[43m \u001b[49m\u001b[43mtypes\u001b[49m\u001b[43m,\u001b[49m\u001b[43m \u001b[49m\u001b[43margs\u001b[49m\u001b[43m,\u001b[49m\u001b[43m \u001b[49m\u001b[43mkwargs\u001b[49m\u001b[43m)\u001b[49m\n\u001b[1;32m   1536\u001b[0m \u001b[38;5;28;01mif\u001b[39;00m result \u001b[38;5;129;01mis\u001b[39;00m \u001b[38;5;129;01mnot\u001b[39;00m \u001b[38;5;28mNotImplemented\u001b[39m:\n\u001b[1;32m   1537\u001b[0m     \u001b[38;5;28;01mreturn\u001b[39;00m result\n",
      "File \u001b[0;32m/mnt/c/Users/123/Desktop/2D_crystals/Band_studies/band_env/lib/python3.10/site-packages/torch/_tensor.py:1279\u001b[0m, in \u001b[0;36mTensor.__torch_function__\u001b[0;34m(cls, func, types, args, kwargs)\u001b[0m\n\u001b[1;32m   1276\u001b[0m     \u001b[38;5;28;01mreturn\u001b[39;00m \u001b[38;5;28mNotImplemented\u001b[39m\n\u001b[1;32m   1278\u001b[0m \u001b[38;5;28;01mwith\u001b[39;00m _C\u001b[38;5;241m.\u001b[39mDisableTorchFunction():\n\u001b[0;32m-> 1279\u001b[0m     ret \u001b[38;5;241m=\u001b[39m \u001b[43mfunc\u001b[49m\u001b[43m(\u001b[49m\u001b[38;5;241;43m*\u001b[39;49m\u001b[43margs\u001b[49m\u001b[43m,\u001b[49m\u001b[43m \u001b[49m\u001b[38;5;241;43m*\u001b[39;49m\u001b[38;5;241;43m*\u001b[39;49m\u001b[43mkwargs\u001b[49m\u001b[43m)\u001b[49m\n\u001b[1;32m   1280\u001b[0m     \u001b[38;5;28;01mif\u001b[39;00m func \u001b[38;5;129;01min\u001b[39;00m get_default_nowrap_functions():\n\u001b[1;32m   1281\u001b[0m         \u001b[38;5;28;01mreturn\u001b[39;00m ret\n",
      "File \u001b[0;32m/mnt/c/Users/123/Desktop/2D_crystals/Band_studies/band_env/lib/python3.10/site-packages/torch/_tensor.py:488\u001b[0m, in \u001b[0;36mTensor.backward\u001b[0;34m(self, gradient, retain_graph, create_graph, inputs)\u001b[0m\n\u001b[1;32m    478\u001b[0m \u001b[38;5;28;01mif\u001b[39;00m has_torch_function_unary(\u001b[38;5;28mself\u001b[39m):\n\u001b[1;32m    479\u001b[0m     \u001b[38;5;28;01mreturn\u001b[39;00m handle_torch_function(\n\u001b[1;32m    480\u001b[0m         Tensor\u001b[38;5;241m.\u001b[39mbackward,\n\u001b[1;32m    481\u001b[0m         (\u001b[38;5;28mself\u001b[39m,),\n\u001b[0;32m   (...)\u001b[0m\n\u001b[1;32m    486\u001b[0m         inputs\u001b[38;5;241m=\u001b[39minputs,\n\u001b[1;32m    487\u001b[0m     )\n\u001b[0;32m--> 488\u001b[0m \u001b[43mtorch\u001b[49m\u001b[38;5;241;43m.\u001b[39;49m\u001b[43mautograd\u001b[49m\u001b[38;5;241;43m.\u001b[39;49m\u001b[43mbackward\u001b[49m\u001b[43m(\u001b[49m\n\u001b[1;32m    489\u001b[0m \u001b[43m    \u001b[49m\u001b[38;5;28;43mself\u001b[39;49m\u001b[43m,\u001b[49m\u001b[43m \u001b[49m\u001b[43mgradient\u001b[49m\u001b[43m,\u001b[49m\u001b[43m \u001b[49m\u001b[43mretain_graph\u001b[49m\u001b[43m,\u001b[49m\u001b[43m \u001b[49m\u001b[43mcreate_graph\u001b[49m\u001b[43m,\u001b[49m\u001b[43m \u001b[49m\u001b[43minputs\u001b[49m\u001b[38;5;241;43m=\u001b[39;49m\u001b[43minputs\u001b[49m\n\u001b[1;32m    490\u001b[0m \u001b[43m\u001b[49m\u001b[43m)\u001b[49m\n",
      "File \u001b[0;32m/mnt/c/Users/123/Desktop/2D_crystals/Band_studies/band_env/lib/python3.10/site-packages/torch/autograd/__init__.py:197\u001b[0m, in \u001b[0;36mbackward\u001b[0;34m(tensors, grad_tensors, retain_graph, create_graph, grad_variables, inputs)\u001b[0m\n\u001b[1;32m    192\u001b[0m     retain_graph \u001b[38;5;241m=\u001b[39m create_graph\n\u001b[1;32m    194\u001b[0m \u001b[38;5;66;03m# The reason we repeat same the comment below is that\u001b[39;00m\n\u001b[1;32m    195\u001b[0m \u001b[38;5;66;03m# some Python versions print out the first line of a multi-line function\u001b[39;00m\n\u001b[1;32m    196\u001b[0m \u001b[38;5;66;03m# calls in the traceback and some print out the last line\u001b[39;00m\n\u001b[0;32m--> 197\u001b[0m \u001b[43mVariable\u001b[49m\u001b[38;5;241;43m.\u001b[39;49m\u001b[43m_execution_engine\u001b[49m\u001b[38;5;241;43m.\u001b[39;49m\u001b[43mrun_backward\u001b[49m\u001b[43m(\u001b[49m\u001b[43m  \u001b[49m\u001b[38;5;66;43;03m# Calls into the C++ engine to run the backward pass\u001b[39;49;00m\n\u001b[1;32m    198\u001b[0m \u001b[43m    \u001b[49m\u001b[43mtensors\u001b[49m\u001b[43m,\u001b[49m\u001b[43m \u001b[49m\u001b[43mgrad_tensors_\u001b[49m\u001b[43m,\u001b[49m\u001b[43m \u001b[49m\u001b[43mretain_graph\u001b[49m\u001b[43m,\u001b[49m\u001b[43m \u001b[49m\u001b[43mcreate_graph\u001b[49m\u001b[43m,\u001b[49m\u001b[43m \u001b[49m\u001b[43minputs\u001b[49m\u001b[43m,\u001b[49m\n\u001b[1;32m    199\u001b[0m \u001b[43m    \u001b[49m\u001b[43mallow_unreachable\u001b[49m\u001b[38;5;241;43m=\u001b[39;49m\u001b[38;5;28;43;01mTrue\u001b[39;49;00m\u001b[43m,\u001b[49m\u001b[43m \u001b[49m\u001b[43maccumulate_grad\u001b[49m\u001b[38;5;241;43m=\u001b[39;49m\u001b[38;5;28;43;01mTrue\u001b[39;49;00m\u001b[43m)\u001b[49m\n",
      "\u001b[0;31mRuntimeError\u001b[0m: Found dtype Double but expected Float"
     ]
    }
   ],
   "source": [
    "trainer.train_one_epoch()"
   ]
  },
  {
   "cell_type": "code",
   "execution_count": null,
   "id": "60aeeb7e",
   "metadata": {},
   "outputs": [],
   "source": []
  },
  {
   "cell_type": "code",
   "execution_count": null,
   "id": "d48bf5b5",
   "metadata": {},
   "outputs": [],
   "source": []
  },
  {
   "cell_type": "code",
   "execution_count": null,
   "id": "8ebe9f4b",
   "metadata": {},
   "outputs": [],
   "source": []
  }
 ],
 "metadata": {
  "kernelspec": {
   "display_name": "band_env",
   "language": "python",
   "name": "band_env"
  },
  "language_info": {
   "codemirror_mode": {
    "name": "ipython",
    "version": 3
   },
   "file_extension": ".py",
   "mimetype": "text/x-python",
   "name": "python",
   "nbconvert_exporter": "python",
   "pygments_lexer": "ipython3",
   "version": "3.10.9"
  }
 },
 "nbformat": 4,
 "nbformat_minor": 5
}
