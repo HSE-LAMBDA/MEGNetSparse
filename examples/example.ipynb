{
 "cells": [
  {
   "cell_type": "code",
   "execution_count": 1,
   "id": "18234d3c",
   "metadata": {
    "pycharm": {
     "name": "#%%\n"
    }
   },
   "outputs": [
    {
     "name": "stderr",
     "output_type": "stream",
     "text": [
      "/mnt/c/Users/123/Desktop/2D_crystals/Band_studies/band_env/lib/python3.10/site-packages/tqdm/auto.py:21: TqdmWarning: IProgress not found. Please update jupyter and ipywidgets. See https://ipywidgets.readthedocs.io/en/stable/user_install.html\n",
      "  from .autonotebook import tqdm as notebook_tqdm\n"
     ]
    }
   ],
   "source": [
    "import numpy as np\n",
    "import pandas as pd\n",
    "import torch\n",
    "from pymatgen.io.cif import CifParser\n",
    "from tqdm import tqdm\n",
    "from joblib import Parallel, delayed"
   ]
  },
  {
   "cell_type": "code",
   "execution_count": 2,
   "id": "75b61f02",
   "metadata": {
    "pycharm": {
     "name": "#%%\n"
    }
   },
   "outputs": [],
   "source": [
    "df = pd.read_pickle('pilot/data.pickle.gz')\n",
    "structures = pd.Series(data=df['initial_structure'].values, index=df['descriptor_id'].values, name='structures')"
   ]
  },
  {
   "cell_type": "code",
   "execution_count": 3,
   "id": "1ae22c57",
   "metadata": {
    "pycharm": {
     "name": "#%%\n"
    }
   },
   "outputs": [],
   "source": [
    "descriptors = pd.read_csv('descriptors.csv', index_col='_id')\n",
    "descriptors = descriptors[['base', 'cell']]"
   ]
  },
  {
   "cell_type": "code",
   "execution_count": 4,
   "id": "ba7205d2",
   "metadata": {
    "pycharm": {
     "name": "#%%\n"
    }
   },
   "outputs": [
    {
     "data": {
      "text/html": [
       "<div>\n",
       "<style scoped>\n",
       "    .dataframe tbody tr th:only-of-type {\n",
       "        vertical-align: middle;\n",
       "    }\n",
       "\n",
       "    .dataframe tbody tr th {\n",
       "        vertical-align: top;\n",
       "    }\n",
       "\n",
       "    .dataframe thead th {\n",
       "        text-align: right;\n",
       "    }\n",
       "</style>\n",
       "<table border=\"1\" class=\"dataframe\">\n",
       "  <thead>\n",
       "    <tr style=\"text-align: right;\">\n",
       "      <th></th>\n",
       "      <th>structures</th>\n",
       "      <th>base</th>\n",
       "      <th>cell</th>\n",
       "    </tr>\n",
       "  </thead>\n",
       "  <tbody>\n",
       "    <tr>\n",
       "      <th>6141cf10b842c2e72e2f2d42</th>\n",
       "      <td>[[1.27612629e-07 1.84192955e+00 3.71975100e+00...</td>\n",
       "      <td>MoS2</td>\n",
       "      <td>[8, 8, 1]</td>\n",
       "    </tr>\n",
       "    <tr>\n",
       "      <th>6141cf10cc0e69a0cf28ab33</th>\n",
       "      <td>[[1.27612629e-07 1.84192955e+00 3.71975100e+00...</td>\n",
       "      <td>MoS2</td>\n",
       "      <td>[8, 8, 1]</td>\n",
       "    </tr>\n",
       "    <tr>\n",
       "      <th>6141cf10cc0e69a0cf28ab33</th>\n",
       "      <td>[[1.27612629e-07 1.84192955e+00 3.71975100e+00...</td>\n",
       "      <td>MoS2</td>\n",
       "      <td>[8, 8, 1]</td>\n",
       "    </tr>\n",
       "    <tr>\n",
       "      <th>6141cf123ac25c70a5c6c835</th>\n",
       "      <td>[[1.27612629e-07 1.84192955e+00 3.71975100e+00...</td>\n",
       "      <td>MoS2</td>\n",
       "      <td>[8, 8, 1]</td>\n",
       "    </tr>\n",
       "    <tr>\n",
       "      <th>6141cf123ac25c70a5c6c835</th>\n",
       "      <td>[[1.27612629e-07 1.84192955e+00 3.71975100e+00...</td>\n",
       "      <td>MoS2</td>\n",
       "      <td>[8, 8, 1]</td>\n",
       "    </tr>\n",
       "    <tr>\n",
       "      <th>...</th>\n",
       "      <td>...</td>\n",
       "      <td>...</td>\n",
       "      <td>...</td>\n",
       "    </tr>\n",
       "    <tr>\n",
       "      <th>6141cf184e27a1844a5efff8</th>\n",
       "      <td>[[1.27612629e-07 1.84192955e+00 3.71975100e+00...</td>\n",
       "      <td>MoS2</td>\n",
       "      <td>[8, 8, 1]</td>\n",
       "    </tr>\n",
       "    <tr>\n",
       "      <th>6141cf184e27a1844a5efff8</th>\n",
       "      <td>[[1.27612629e-07 1.84192955e+00 3.71975100e+00...</td>\n",
       "      <td>MoS2</td>\n",
       "      <td>[8, 8, 1]</td>\n",
       "    </tr>\n",
       "    <tr>\n",
       "      <th>6141cf184e27a1844a5efff8</th>\n",
       "      <td>[[1.27612629e-07 1.84192955e+00 3.71975100e+00...</td>\n",
       "      <td>MoS2</td>\n",
       "      <td>[8, 8, 1]</td>\n",
       "    </tr>\n",
       "    <tr>\n",
       "      <th>6141cf184e27a1844a5efff8</th>\n",
       "      <td>[[1.27612629e-07 1.84192955e+00 3.71975100e+00...</td>\n",
       "      <td>MoS2</td>\n",
       "      <td>[8, 8, 1]</td>\n",
       "    </tr>\n",
       "    <tr>\n",
       "      <th>6141cf184e27a1844a5efff8</th>\n",
       "      <td>[[1.27612629e-07 1.84192955e+00 3.71975100e+00...</td>\n",
       "      <td>MoS2</td>\n",
       "      <td>[8, 8, 1]</td>\n",
       "    </tr>\n",
       "  </tbody>\n",
       "</table>\n",
       "<p>200 rows × 3 columns</p>\n",
       "</div>"
      ],
      "text/plain": [
       "                                                                 structures  \\\n",
       "6141cf10b842c2e72e2f2d42  [[1.27612629e-07 1.84192955e+00 3.71975100e+00...   \n",
       "6141cf10cc0e69a0cf28ab33  [[1.27612629e-07 1.84192955e+00 3.71975100e+00...   \n",
       "6141cf10cc0e69a0cf28ab33  [[1.27612629e-07 1.84192955e+00 3.71975100e+00...   \n",
       "6141cf123ac25c70a5c6c835  [[1.27612629e-07 1.84192955e+00 3.71975100e+00...   \n",
       "6141cf123ac25c70a5c6c835  [[1.27612629e-07 1.84192955e+00 3.71975100e+00...   \n",
       "...                                                                     ...   \n",
       "6141cf184e27a1844a5efff8  [[1.27612629e-07 1.84192955e+00 3.71975100e+00...   \n",
       "6141cf184e27a1844a5efff8  [[1.27612629e-07 1.84192955e+00 3.71975100e+00...   \n",
       "6141cf184e27a1844a5efff8  [[1.27612629e-07 1.84192955e+00 3.71975100e+00...   \n",
       "6141cf184e27a1844a5efff8  [[1.27612629e-07 1.84192955e+00 3.71975100e+00...   \n",
       "6141cf184e27a1844a5efff8  [[1.27612629e-07 1.84192955e+00 3.71975100e+00...   \n",
       "\n",
       "                          base       cell  \n",
       "6141cf10b842c2e72e2f2d42  MoS2  [8, 8, 1]  \n",
       "6141cf10cc0e69a0cf28ab33  MoS2  [8, 8, 1]  \n",
       "6141cf10cc0e69a0cf28ab33  MoS2  [8, 8, 1]  \n",
       "6141cf123ac25c70a5c6c835  MoS2  [8, 8, 1]  \n",
       "6141cf123ac25c70a5c6c835  MoS2  [8, 8, 1]  \n",
       "...                        ...        ...  \n",
       "6141cf184e27a1844a5efff8  MoS2  [8, 8, 1]  \n",
       "6141cf184e27a1844a5efff8  MoS2  [8, 8, 1]  \n",
       "6141cf184e27a1844a5efff8  MoS2  [8, 8, 1]  \n",
       "6141cf184e27a1844a5efff8  MoS2  [8, 8, 1]  \n",
       "6141cf184e27a1844a5efff8  MoS2  [8, 8, 1]  \n",
       "\n",
       "[200 rows x 3 columns]"
      ]
     },
     "execution_count": 4,
     "metadata": {},
     "output_type": "execute_result"
    }
   ],
   "source": [
    "prepared = pd.merge(structures, descriptors, left_index=True, right_index=True)\n",
    "prepared"
   ]
  },
  {
   "cell_type": "code",
   "execution_count": 5,
   "id": "1883b5e1",
   "metadata": {
    "pycharm": {
     "name": "#%%\n"
    }
   },
   "outputs": [
    {
     "name": "stderr",
     "output_type": "stream",
     "text": [
      "/mnt/c/Users/123/Desktop/2D_crystals/Band_studies/band_env/lib/python3.10/site-packages/pymatgen/io/cif.py:1169: UserWarning: Issues encountered while parsing CIF: Some fractional coordinates rounded to ideal values to avoid issues with finite precision.\n",
      "  warnings.warn(\"Issues encountered while parsing CIF: \" + \"\\n\".join(self.warnings))\n"
     ]
    }
   ],
   "source": [
    "unit_cells = {\n",
    "    'MoS2': CifParser(\"MoS2.cif\").get_structures(primitive=False)[0],\n",
    "    'WSe2': CifParser(\"WSe2.cif\").get_structures(primitive=False)[0]\n",
    "}"
   ]
  },
  {
   "cell_type": "code",
   "execution_count": 6,
   "id": "7397d529",
   "metadata": {
    "pycharm": {
     "name": "#%%\n"
    }
   },
   "outputs": [],
   "source": [
    "prepared = prepared.values.tolist()\n",
    "prepared = [[p[0], p[1], eval(p[2])] for p in prepared]"
   ]
  },
  {
   "cell_type": "code",
   "execution_count": 7,
   "id": "535ad5f5",
   "metadata": {
    "pycharm": {
     "name": "#%%\n"
    }
   },
   "outputs": [
    {
     "name": "stderr",
     "output_type": "stream",
     "text": [
      " 16%|█████████████████████▊                                                                                                                  | 32/200 [00:37<02:34,  1.09it/s]/mnt/c/Users/123/Desktop/2D_crystals/Band_studies/band_env/lib/python3.10/site-packages/pymatgen/core/structure.py:799: UserWarning: Not all sites have property was. Missing values are set to None.\n",
      "  warnings.warn(f\"Not all sites have property {k}. Missing values are set to None.\")\n",
      "/mnt/c/Users/123/Desktop/2D_crystals/Band_studies/band_env/lib/python3.10/site-packages/pymatgen/core/structure.py:799: UserWarning: Not all sites have property was. Missing values are set to None.\n",
      "  warnings.warn(f\"Not all sites have property {k}. Missing values are set to None.\")\n",
      " 44%|███████████████████████████████████████████████████████████▊                                                                            | 88/200 [00:39<00:10, 10.31it/s]/mnt/c/Users/123/Desktop/2D_crystals/Band_studies/band_env/lib/python3.10/site-packages/pymatgen/core/structure.py:799: UserWarning: Not all sites have property was. Missing values are set to None.\n",
      "  warnings.warn(f\"Not all sites have property {k}. Missing values are set to None.\")\n",
      "/mnt/c/Users/123/Desktop/2D_crystals/Band_studies/band_env/lib/python3.10/site-packages/pymatgen/core/structure.py:799: UserWarning: Not all sites have property was. Missing values are set to None.\n",
      "  warnings.warn(f\"Not all sites have property {k}. Missing values are set to None.\")\n",
      "100%|███████████████████████████████████████████████████████████████████████████████████████████████████████████████████████████████████████| 200/200 [00:43<00:00,  4.64it/s]\n"
     ]
    }
   ],
   "source": [
    "from MEGNetSparse import convert_to_sparse_representation\n",
    "\n",
    "dataset = Parallel(n_jobs=-1)(\n",
    "            delayed(convert_to_sparse_representation)(p[0], unit_cells[p[1]], p[2], True) for p in tqdm(prepared))"
   ]
  },
  {
   "cell_type": "code",
   "execution_count": 8,
   "id": "4a7e3b2f",
   "metadata": {
    "pycharm": {
     "name": "#%%\n"
    }
   },
   "outputs": [],
   "source": [
    "targets = pd.read_csv('pilot/targets.csv.gz')\n",
    "targets = torch.tensor(targets['formation_energy_per_site'].values).float()"
   ]
  },
  {
   "cell_type": "code",
   "execution_count": 9,
   "id": "95f5e54f",
   "metadata": {
    "pycharm": {
     "name": "#%%\n"
    }
   },
   "outputs": [],
   "source": [
    "train_data, test_data = dataset[:100], dataset[100:]\n",
    "train_targets, test_targets = targets[:100], targets[100:]"
   ]
  },
  {
   "cell_type": "code",
   "execution_count": 10,
   "id": "15e72123",
   "metadata": {
    "pycharm": {
     "name": "#%%\n"
    }
   },
   "outputs": [],
   "source": [
    "config = {\n",
    "    'model': {\n",
    "        'train_batch_size': 50,\n",
    "        'test_batch_size': 50,\n",
    "        'add_z_bond_coord': True,\n",
    "        'atom_features': 'werespecies',\n",
    "        'state_input_shape': 2,\n",
    "        'cutoff': 10,\n",
    "        'edge_embed_size': 10,\n",
    "        'vertex_aggregation': 'mean',\n",
    "        'global_aggregation': 'mean',\n",
    "        'embedding_size': 32,\n",
    "        'nblocks': 3,\n",
    "    },\n",
    "    'optim': {\n",
    "        'factor': 0.5,\n",
    "        'patience': 30,\n",
    "        'threshold': 5e-2,\n",
    "        'min_lr': 1e-5,\n",
    "        'lr_initial': 1e-3,\n",
    "        'scheduler': 'ReduceLROnPlateau',\n",
    "    }\n",
    "}"
   ]
  },
  {
   "cell_type": "code",
   "execution_count": 11,
   "id": "a67aba88",
   "metadata": {
    "pycharm": {
     "name": "#%%\n"
    }
   },
   "outputs": [],
   "source": [
    "from MEGNetSparse import MEGNetTrainer\n",
    "\n",
    "trainer = MEGNetTrainer(config, 'cpu')"
   ]
  },
  {
   "cell_type": "code",
   "execution_count": 12,
   "id": "6bc43218",
   "metadata": {
    "pycharm": {
     "name": "#%%\n"
    }
   },
   "outputs": [
    {
     "name": "stdout",
     "output_type": "stream",
     "text": [
      "adding targets to data\n",
      "converting data\n"
     ]
    },
    {
     "name": "stderr",
     "output_type": "stream",
     "text": [
      "100%|██████████████████████████████████████████████████████████████████████████████████████████████████████████████████████████████████████| 100/100 [00:00<00:00, 694.88it/s]\n",
      "100%|██████████████████████████████████████████████████████████████████████████████████████████████████████████████████████████████████████| 100/100 [00:00<00:00, 930.11it/s]\n"
     ]
    }
   ],
   "source": [
    "trainer.prepare_data(train_data, train_targets, test_data, test_targets, 'formation_energy')"
   ]
  },
  {
   "cell_type": "code",
   "execution_count": 13,
   "id": "30071ded",
   "metadata": {
    "pycharm": {
     "name": "#%%\n"
    }
   },
   "outputs": [
    {
     "name": "stdout",
     "output_type": "stream",
     "text": [
      "target: formation_energy device: cpu\n"
     ]
    },
    {
     "data": {
      "text/plain": [
       "(0.5600546646118164, 0.9621846)"
      ]
     },
     "execution_count": 13,
     "metadata": {},
     "output_type": "execute_result"
    }
   ],
   "source": [
    "trainer.train_one_epoch()"
   ]
  },
  {
   "cell_type": "code",
   "execution_count": 14,
   "id": "7671c5f7",
   "metadata": {
    "pycharm": {
     "name": "#%%\n"
    }
   },
   "outputs": [
    {
     "data": {
      "text/plain": [
       "1.0083928298950195"
      ]
     },
     "execution_count": 14,
     "metadata": {},
     "output_type": "execute_result"
    }
   ],
   "source": [
    "trainer.evaluate_on_test()"
   ]
  },
  {
   "cell_type": "code",
   "execution_count": null,
   "id": "74699dc3",
   "metadata": {
    "pycharm": {
     "name": "#%%\n"
    }
   },
   "outputs": [],
   "source": []
  }
 ],
 "metadata": {
  "kernelspec": {
   "display_name": "band_env",
   "language": "python",
   "name": "band_env"
  },
  "language_info": {
   "codemirror_mode": {
    "name": "ipython",
    "version": 3
   },
   "file_extension": ".py",
   "mimetype": "text/x-python",
   "name": "python",
   "nbconvert_exporter": "python",
   "pygments_lexer": "ipython3",
   "version": "3.10.9"
  }
 },
 "nbformat": 4,
 "nbformat_minor": 5
}